{
 "cells": [
  {
   "cell_type": "code",
   "execution_count": 1,
   "id": "73d26e1f",
   "metadata": {},
   "outputs": [],
   "source": [
    "#  https://www.codewars.com/kata/56b0f6243196b9d42d000034/train/python\n",
    "# Sum Factorial\n",
    "\n",
    "def factrorial(num): # O(N) Time & Space\n",
    "    if num == 1:\n",
    "        return num\n",
    "    return num*factrorial(num-1)    \n",
    "\n",
    "def sum_factorial(lst):  # O(N) Time and Space\n",
    "    sum_fact = 0\n",
    "    for i in lst:\n",
    "        sum_fact += factrorial(i)\n",
    "    return sum_fact"
   ]
  },
  {
   "cell_type": "code",
   "execution_count": 2,
   "id": "c41c6e0f",
   "metadata": {},
   "outputs": [],
   "source": [
    "# https://www.codewars.com/kata/54ff3102c1bad923760001f3/train/python\n",
    "# vowel Count\n",
    "\n",
    "\n",
    "def get_count(inputStr):\n",
    "    vocals_dict = {x: 0 for x in \"aeiou\"}\n",
    "    for char in inputStr:\n",
    "        try:\n",
    "            vocals_dict[char] += 1\n",
    "        except KeyError:\n",
    "            continue\n",
    "    return sum(vocals_dict.values())\n",
    "\n",
    "# Time complexity of this function is O(N) It's the lenth of the input string\n",
    "# space complexity of this function is O(1) because the vocals_dict will always have a fixed size of 5"
   ]
  },
  {
   "cell_type": "code",
   "execution_count": null,
   "id": "25130905",
   "metadata": {},
   "outputs": [],
   "source": [
    "# https://www.codewars.com/kata/53da3dbb4a5168369a0000fe/train/python\n",
    "# Even or Odd\n",
    "\n",
    "def even_or_odd(number):\n",
    "    if number % 2 == 0:\n",
    "        return \"Even\"\n",
    "    else:\n",
    "        return \"Odd\"\n",
    "    \n",
    "# The time complexity of the even_or_odd function is O(1)\n",
    "# The space complexity is also O(1)"
   ]
  }
 ],
 "metadata": {
  "kernelspec": {
   "display_name": "Python 3 (ipykernel)",
   "language": "python",
   "name": "python3"
  },
  "language_info": {
   "codemirror_mode": {
    "name": "ipython",
    "version": 3
   },
   "file_extension": ".py",
   "mimetype": "text/x-python",
   "name": "python",
   "nbconvert_exporter": "python",
   "pygments_lexer": "ipython3",
   "version": "3.9.13"
  }
 },
 "nbformat": 4,
 "nbformat_minor": 5
}
